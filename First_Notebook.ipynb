{
 "cells": [
  {
   "cell_type": "code",
   "execution_count": 1,
   "id": "81fdb89d-d0f6-4542-81d2-ec1c826aeb4e",
   "metadata": {},
   "outputs": [
    {
     "name": "stdout",
     "output_type": "stream",
     "text": [
      "1\n",
      "1.1\n"
     ]
    }
   ],
   "source": [
    "a=1\n",
    "print(a)\n",
    "b=1.1\n",
    "print(b)"
   ]
  },
  {
   "cell_type": "code",
   "execution_count": 2,
   "id": "43542053-eb56-4fca-843b-7790cd1c6adc",
   "metadata": {},
   "outputs": [
    {
     "name": "stdout",
     "output_type": "stream",
     "text": [
      "257\n",
      "258\n",
      "259\n",
      "260\n",
      "261\n",
      "262\n",
      "263\n",
      "264\n",
      "265\n",
      "266\n",
      "267\n",
      "268\n",
      "269\n",
      "270\n",
      "271\n",
      "272\n",
      "273\n",
      "274\n",
      "275\n",
      "276\n",
      "277\n",
      "278\n",
      "279\n",
      "280\n",
      "281\n",
      "282\n",
      "283\n",
      "284\n",
      "285\n",
      "286\n",
      "287\n",
      "288\n",
      "289\n",
      "290\n",
      "291\n",
      "292\n",
      "293\n",
      "294\n",
      "295\n",
      "296\n",
      "297\n",
      "298\n",
      "299\n",
      "300\n",
      "301\n",
      "302\n",
      "303\n",
      "304\n",
      "305\n",
      "306\n",
      "307\n",
      "308\n",
      "309\n",
      "310\n",
      "311\n",
      "312\n",
      "313\n",
      "314\n",
      "315\n",
      "316\n",
      "317\n",
      "318\n",
      "319\n",
      "320\n",
      "321\n",
      "322\n",
      "323\n",
      "324\n",
      "325\n",
      "326\n",
      "327\n",
      "328\n",
      "329\n",
      "330\n",
      "331\n",
      "332\n",
      "333\n",
      "334\n",
      "335\n",
      "336\n",
      "337\n",
      "338\n",
      "339\n",
      "340\n",
      "341\n",
      "342\n",
      "343\n",
      "344\n",
      "345\n",
      "346\n",
      "347\n",
      "348\n",
      "349\n",
      "350\n",
      "351\n",
      "352\n",
      "353\n",
      "354\n",
      "355\n",
      "356\n",
      "357\n",
      "358\n",
      "359\n",
      "360\n",
      "361\n",
      "362\n",
      "363\n",
      "364\n",
      "365\n",
      "366\n",
      "367\n",
      "368\n",
      "369\n",
      "370\n",
      "371\n",
      "372\n",
      "373\n",
      "374\n",
      "375\n",
      "376\n",
      "377\n",
      "378\n",
      "379\n",
      "380\n",
      "381\n",
      "382\n",
      "383\n",
      "384\n",
      "385\n",
      "386\n",
      "387\n",
      "388\n",
      "389\n",
      "390\n",
      "391\n",
      "392\n",
      "393\n",
      "394\n",
      "395\n",
      "396\n",
      "397\n",
      "398\n",
      "399\n",
      "400\n",
      "401\n",
      "402\n",
      "403\n",
      "404\n",
      "405\n",
      "406\n",
      "407\n",
      "408\n",
      "409\n",
      "410\n",
      "411\n",
      "412\n",
      "413\n",
      "414\n",
      "415\n",
      "416\n",
      "417\n",
      "418\n",
      "419\n",
      "420\n",
      "421\n",
      "422\n",
      "423\n",
      "424\n",
      "425\n",
      "426\n",
      "427\n",
      "428\n",
      "429\n",
      "430\n",
      "431\n",
      "432\n",
      "433\n",
      "434\n",
      "435\n",
      "436\n",
      "437\n",
      "438\n",
      "439\n",
      "440\n",
      "441\n",
      "442\n",
      "443\n",
      "444\n",
      "445\n",
      "446\n",
      "447\n",
      "448\n",
      "449\n",
      "450\n",
      "451\n",
      "452\n",
      "453\n",
      "454\n",
      "455\n",
      "456\n",
      "457\n",
      "458\n",
      "459\n",
      "460\n",
      "461\n",
      "462\n",
      "463\n",
      "464\n",
      "465\n",
      "466\n",
      "467\n",
      "468\n",
      "469\n",
      "470\n",
      "471\n",
      "472\n",
      "473\n",
      "474\n",
      "475\n",
      "476\n",
      "477\n",
      "478\n",
      "479\n",
      "480\n",
      "481\n",
      "482\n",
      "483\n",
      "484\n",
      "485\n",
      "486\n",
      "487\n",
      "488\n",
      "489\n",
      "490\n",
      "491\n",
      "492\n",
      "493\n",
      "494\n",
      "495\n",
      "496\n",
      "497\n",
      "498\n",
      "499\n"
     ]
    }
   ],
   "source": [
    "i=0\n",
    "j=0\n",
    "for i in range(500):\n",
    "    if(id(i)!=id(j)):\n",
    "        print(i)\n",
    "    else:\n",
    "        j+=1"
   ]
  },
  {
   "cell_type": "code",
   "execution_count": 3,
   "id": "3c1a6870-0174-47f8-a920-3c33f62f9002",
   "metadata": {},
   "outputs": [
    {
     "name": "stdout",
     "output_type": "stream",
     "text": [
      "{1, 2, 3}\n"
     ]
    }
   ],
   "source": [
    "\n",
    "seta={1,2,3} #sets\n",
    "print(seta)"
   ]
  },
  {
   "cell_type": "code",
   "execution_count": 4,
   "id": "19fd0726-fcd3-419f-a657-53657a16c691",
   "metadata": {},
   "outputs": [
    {
     "name": "stdout",
     "output_type": "stream",
     "text": [
      "Tushar\n"
     ]
    }
   ],
   "source": [
    "#dictionary or json\n",
    "dictionaryA={\"Name\":\"Tushar\",\"Batch\":\"B1\"}  #Key-Value pairs\n",
    "print(dictionaryA[\"Name\"])"
   ]
  },
  {
   "cell_type": "code",
   "execution_count": 6,
   "id": "9e7b9488-00b4-429c-ae6d-63d3130c2b93",
   "metadata": {},
   "outputs": [
    {
     "name": "stdout",
     "output_type": "stream",
     "text": [
      "Help on dict object:\n",
      "\n",
      "class dict(object)\n",
      " |  dict() -> new empty dictionary\n",
      " |  dict(mapping) -> new dictionary initialized from a mapping object's\n",
      " |      (key, value) pairs\n",
      " |  dict(iterable) -> new dictionary initialized as if via:\n",
      " |      d = {}\n",
      " |      for k, v in iterable:\n",
      " |          d[k] = v\n",
      " |  dict(**kwargs) -> new dictionary initialized with the name=value pairs\n",
      " |      in the keyword argument list.  For example:  dict(one=1, two=2)\n",
      " |  \n",
      " |  Built-in subclasses:\n",
      " |      StgDict\n",
      " |  \n",
      " |  Methods defined here:\n",
      " |  \n",
      " |  __contains__(self, key, /)\n",
      " |      True if the dictionary has the specified key, else False.\n",
      " |  \n",
      " |  __delitem__(self, key, /)\n",
      " |      Delete self[key].\n",
      " |  \n",
      " |  __eq__(self, value, /)\n",
      " |      Return self==value.\n",
      " |  \n",
      " |  __ge__(self, value, /)\n",
      " |      Return self>=value.\n",
      " |  \n",
      " |  __getattribute__(self, name, /)\n",
      " |      Return getattr(self, name).\n",
      " |  \n",
      " |  __getitem__(...)\n",
      " |      x.__getitem__(y) <==> x[y]\n",
      " |  \n",
      " |  __gt__(self, value, /)\n",
      " |      Return self>value.\n",
      " |  \n",
      " |  __init__(self, /, *args, **kwargs)\n",
      " |      Initialize self.  See help(type(self)) for accurate signature.\n",
      " |  \n",
      " |  __ior__(self, value, /)\n",
      " |      Return self|=value.\n",
      " |  \n",
      " |  __iter__(self, /)\n",
      " |      Implement iter(self).\n",
      " |  \n",
      " |  __le__(self, value, /)\n",
      " |      Return self<=value.\n",
      " |  \n",
      " |  __len__(self, /)\n",
      " |      Return len(self).\n",
      " |  \n",
      " |  __lt__(self, value, /)\n",
      " |      Return self<value.\n",
      " |  \n",
      " |  __ne__(self, value, /)\n",
      " |      Return self!=value.\n",
      " |  \n",
      " |  __or__(self, value, /)\n",
      " |      Return self|value.\n",
      " |  \n",
      " |  __repr__(self, /)\n",
      " |      Return repr(self).\n",
      " |  \n",
      " |  __reversed__(self, /)\n",
      " |      Return a reverse iterator over the dict keys.\n",
      " |  \n",
      " |  __ror__(self, value, /)\n",
      " |      Return value|self.\n",
      " |  \n",
      " |  __setitem__(self, key, value, /)\n",
      " |      Set self[key] to value.\n",
      " |  \n",
      " |  __sizeof__(...)\n",
      " |      D.__sizeof__() -> size of D in memory, in bytes\n",
      " |  \n",
      " |  clear(...)\n",
      " |      D.clear() -> None.  Remove all items from D.\n",
      " |  \n",
      " |  copy(...)\n",
      " |      D.copy() -> a shallow copy of D\n",
      " |  \n",
      " |  get(self, key, default=None, /)\n",
      " |      Return the value for key if key is in the dictionary, else default.\n",
      " |  \n",
      " |  items(...)\n",
      " |      D.items() -> a set-like object providing a view on D's items\n",
      " |  \n",
      " |  keys(...)\n",
      " |      D.keys() -> a set-like object providing a view on D's keys\n",
      " |  \n",
      " |  pop(...)\n",
      " |      D.pop(k[,d]) -> v, remove specified key and return the corresponding value.\n",
      " |      \n",
      " |      If the key is not found, return the default if given; otherwise,\n",
      " |      raise a KeyError.\n",
      " |  \n",
      " |  popitem(self, /)\n",
      " |      Remove and return a (key, value) pair as a 2-tuple.\n",
      " |      \n",
      " |      Pairs are returned in LIFO (last-in, first-out) order.\n",
      " |      Raises KeyError if the dict is empty.\n",
      " |  \n",
      " |  setdefault(self, key, default=None, /)\n",
      " |      Insert key with a value of default if key is not in the dictionary.\n",
      " |      \n",
      " |      Return the value for key if key is in the dictionary, else default.\n",
      " |  \n",
      " |  update(...)\n",
      " |      D.update([E, ]**F) -> None.  Update D from dict/iterable E and F.\n",
      " |      If E is present and has a .keys() method, then does:  for k in E: D[k] = E[k]\n",
      " |      If E is present and lacks a .keys() method, then does:  for k, v in E: D[k] = v\n",
      " |      In either case, this is followed by: for k in F:  D[k] = F[k]\n",
      " |  \n",
      " |  values(...)\n",
      " |      D.values() -> an object providing a view on D's values\n",
      " |  \n",
      " |  ----------------------------------------------------------------------\n",
      " |  Class methods defined here:\n",
      " |  \n",
      " |  __class_getitem__(...) from builtins.type\n",
      " |      See PEP 585\n",
      " |  \n",
      " |  fromkeys(iterable, value=None, /) from builtins.type\n",
      " |      Create a new dictionary with keys from iterable and values set to value.\n",
      " |  \n",
      " |  ----------------------------------------------------------------------\n",
      " |  Static methods defined here:\n",
      " |  \n",
      " |  __new__(*args, **kwargs) from builtins.type\n",
      " |      Create and return a new object.  See help(type) for accurate signature.\n",
      " |  \n",
      " |  ----------------------------------------------------------------------\n",
      " |  Data and other attributes defined here:\n",
      " |  \n",
      " |  __hash__ = None\n",
      "\n"
     ]
    }
   ],
   "source": [
    "help(dictionaryA)"
   ]
  },
  {
   "cell_type": "code",
   "execution_count": 7,
   "id": "593f19c2-b36f-4238-bb17-fe20cf0e7810",
   "metadata": {},
   "outputs": [
    {
     "name": "stdin",
     "output_type": "stream",
     "text": [
      "Enter a number : 45\n"
     ]
    },
    {
     "name": "stdout",
     "output_type": "stream",
     "text": [
      "45 X 1 = 45\n",
      "45 X 2 = 90\n",
      "45 X 3 = 135\n",
      "45 X 4 = 180\n",
      "45 X 5 = 225\n",
      "45 X 6 = 270\n",
      "45 X 7 = 315\n",
      "45 X 8 = 360\n",
      "45 X 9 = 405\n",
      "45 X 10 = 450\n"
     ]
    }
   ],
   "source": [
    "# WAP that take user input in numeric form and print its table\n",
    "num=int(input(\"Enter a number :\"))\n",
    "for i in range(1,11,1):\n",
    "    print(num,\"X\",i,\"=\",num*i)\n"
   ]
  },
  {
   "cell_type": "code",
   "execution_count": 8,
   "id": "808d5185-0e1a-437c-b819-daeaccb6f96f",
   "metadata": {},
   "outputs": [
    {
     "name": "stdout",
     "output_type": "stream",
     "text": [
      "Addition of Numbers : 160\n",
      "Average of Numbers : 35.0\n",
      "Upper Number is : 90\n"
     ]
    }
   ],
   "source": [
    "def math(a,b,c,d=0,e=0): # extra 2 variables are assigned with default values 0 as if any value is passed in those variables then the values will come through there\n",
    "    print(\"Addition of Numbers :\",a+b+c)\n",
    "    print(\"Average of Numbers :\",(a+b)/2)\n",
    "    if(a>b and a>c):\n",
    "        print(\"Upper Number is :\",a)\n",
    "    if(b>a and b>c):\n",
    "        print(\"Upper Number is :\",b)\n",
    "    else:\n",
    "        print(\"Upper Number is :\",c)\n",
    "math(30,40,90)"
   ]
  },
  {
   "cell_type": "code",
   "execution_count": 9,
   "id": "bdc290dd-3616-4754-b39e-6d26dff396df",
   "metadata": {},
   "outputs": [
    {
     "data": {
      "text/plain": [
       "6"
      ]
     },
     "execution_count": 9,
     "metadata": {},
     "output_type": "execute_result"
    }
   ],
   "source": [
    "sum([1,2,3])"
   ]
  },
  {
   "cell_type": "code",
   "execution_count": 10,
   "id": "92078105-7374-41d4-90e0-fbd74cb26e60",
   "metadata": {},
   "outputs": [
    {
     "data": {
      "text/plain": [
       "1"
      ]
     },
     "execution_count": 10,
     "metadata": {},
     "output_type": "execute_result"
    }
   ],
   "source": [
    "min([1,4,8])"
   ]
  },
  {
   "cell_type": "code",
   "execution_count": 11,
   "id": "8bbda8be-dcde-4c3a-bfb9-eda769be4324",
   "metadata": {},
   "outputs": [
    {
     "data": {
      "text/plain": [
       "7"
      ]
     },
     "execution_count": 11,
     "metadata": {},
     "output_type": "execute_result"
    }
   ],
   "source": [
    "max([1,7,3])"
   ]
  },
  {
   "cell_type": "code",
   "execution_count": 12,
   "id": "d7255d61-fd0f-4740-91e5-aad07ca72a84",
   "metadata": {},
   "outputs": [
    {
     "name": "stdout",
     "output_type": "stream",
     "text": [
      "Original matrix:\n",
      "[[1, 2, 3], [4, 5, 6], [7, 8, 9]]\n",
      "Modified matrix:\n",
      "[[2, 4, 6], [8, 10, 12], [14, 16, 18]]\n"
     ]
    }
   ],
   "source": [
    "#3 A user has a 3X3 and then in the copied matrix multiply each value by a constant and store the result in place after this print both the matrix\n",
    "\n",
    "def multiply(matrix,constant):\n",
    "    rows=len(matrix)\n",
    "    cols=len(matrix[0])\n",
    "    result=[[0] * cols for _ in range(rows)]\n",
    "    for i in range(rows):\n",
    "        for j in range(cols):\n",
    "            result[i][j]=matrix[i][j] * constant\n",
    "    return result\n",
    "matrix = [[1,2,3],\n",
    "          [4,5,6],\n",
    "          [7,8,9]]\n",
    "constant =2\n",
    "modified_matrix = multiply(matrix, constant)\n",
    "print(\"Original matrix:\")\n",
    "print(matrix)\n",
    "\n",
    "print(\"Modified matrix:\")\n",
    "print(modified_matrix)"
   ]
  },
  {
   "cell_type": "code",
   "execution_count": 18,
   "id": "b41ca409-24cd-4148-b530-a0053cc6f694",
   "metadata": {},
   "outputs": [
    {
     "name": "stdout",
     "output_type": "stream",
     "text": [
      "List A: [2, 4, 6, [1, 3]]\n",
      "List B: [2, 4, 6, [1, 3]]\n",
      "\n",
      "List A: [2, 4, 6, [55, 3]]\n",
      "List B: [2, 44, 6, [55, 3]]\n",
      "\n"
     ]
    }
   ],
   "source": [
    "import copy\n",
    "\n",
    "def showDetails(listA, listB):\n",
    "    print(\"List A:\", listA)\n",
    "    print(\"List B:\", listB)\n",
    "    print()\n",
    "\n",
    "listA = [2, 4, 6, [1, 3]]\n",
    "listB = copy.copy(listA)\n",
    "\n",
    "showDetails(listA, listB)\n",
    "\n",
    "listB[1] = 44\n",
    "listB[3][0] = 55\n",
    "\n",
    "showDetails(listA, listB)"
   ]
  },
  {
   "cell_type": "code",
   "execution_count": 20,
   "id": "5b96c55a-a29e-4a3e-8679-c8a120b9687b",
   "metadata": {},
   "outputs": [
    {
     "data": {
      "text/plain": [
       "14"
      ]
     },
     "execution_count": 20,
     "metadata": {},
     "output_type": "execute_result"
    }
   ],
   "source": [
    "def add(a,b,c):\n",
    "    sum=a+b+c\n",
    "    return sum\n",
    "add(2,5,7)"
   ]
  },
  {
   "cell_type": "code",
   "execution_count": 17,
   "id": "1a0e8e1a-a848-420f-a0bf-4887f036592a",
   "metadata": {},
   "outputs": [
    {
     "name": "stdout",
     "output_type": "stream",
     "text": [
      "1\n",
      "(2, 3, 4)\n"
     ]
    }
   ],
   "source": [
    "def sum2(a,*args): #args *values\n",
    "    print(a)\n",
    "    print(args)\n",
    "    res=0\n",
    "    #res=a+b+c+d+e+f\n",
    "    return res\n",
    "res=sum2(1,2,3,4)"
   ]
  },
  {
   "cell_type": "code",
   "execution_count": 21,
   "id": "f49179ef-31b3-4b31-bb3f-eab650c85107",
   "metadata": {},
   "outputs": [],
   "source": [
    "def sum3(a, *args):\n",
    "    print(a)\n",
    "    print(args)\n",
    "    res=a\n",
    "    for i in range(0, len(args)):\n",
    "        res=res + args[i]\n",
    "    return res"
   ]
  },
  {
   "cell_type": "code",
   "execution_count": 22,
   "id": "19e147e0-6d74-45a6-b3b8-1dd1ce00c3cf",
   "metadata": {},
   "outputs": [
    {
     "name": "stdout",
     "output_type": "stream",
     "text": [
      "3\n",
      "(5, 6)\n"
     ]
    },
    {
     "data": {
      "text/plain": [
       "14"
      ]
     },
     "execution_count": 22,
     "metadata": {},
     "output_type": "execute_result"
    }
   ],
   "source": [
    "sum3(3,5,6)"
   ]
  },
  {
   "cell_type": "code",
   "execution_count": 1,
   "id": "d2effd09-27af-4d5b-a0a2-4fd442181021",
   "metadata": {},
   "outputs": [
    {
     "name": "stdout",
     "output_type": "stream",
     "text": [
      "(1, 2, 3) {'a': 1, 'b': 2, 'c': 3}\n"
     ]
    }
   ],
   "source": [
    "dict1={\n",
    "    \"name\":\"Tushar\",\n",
    "    \"batch\":\"MCA\",\n",
    "    \"classTime\":\"8 AM\"\n",
    "}\n",
    "def printDict(*args,**kwargs): #Keyword arguements\n",
    "    print(args,kwargs)\n",
    "printDict(1,2,3,a=1,b=2,c=3)"
   ]
  },
  {
   "cell_type": "code",
   "execution_count": 1,
   "id": "0fcda2de-6c46-4da4-84db-00be90ba6da5",
   "metadata": {},
   "outputs": [
    {
     "name": "stdout",
     "output_type": "stream",
     "text": [
      "{'sum': 15, 'cumulative_sum': [1, 3, 6, 10, 15], 'average': 3.0, 'min': 1.0, 'max': 5.0}\n"
     ]
    }
   ],
   "source": [
    "# Write a function that takes one input arguement as input and return its sum,cumulative sum,average,min and max value.\n",
    "# Implement this function using for loop.\n",
    "# Define function documentation using doc string and show its uses.\n",
    "\n",
    "def analyze_list(numbers):\n",
    "    total_sum = 0\n",
    "    cumulative_sum = []\n",
    "    min_value = float(min(numbers))\n",
    "    max_value = float(max(numbers))\n",
    "    \n",
    "    for number in numbers:\n",
    "        total_sum += number\n",
    "        cumulative_sum.append(total_sum)\n",
    "        \n",
    "        if number < min_value:\n",
    "            min_value = number\n",
    "        if number > max_value:\n",
    "            max_value = number\n",
    "    \n",
    "    average = total_sum / len(numbers) if numbers else 0\n",
    "    \n",
    "    return {\n",
    "        'sum': total_sum,\n",
    "        'cumulative_sum': cumulative_sum,\n",
    "        'average': average,\n",
    "        'min': min_value,\n",
    "        'max': max_value\n",
    "    }\n",
    "\n",
    "# Example Usage\n",
    "result = analyze_list([1, 2, 3, 4, 5])\n",
    "print(result)"
   ]
  },
  {
   "cell_type": "markdown",
   "id": "1675b201-e95f-4ad3-87d6-143e9c8cc323",
   "metadata": {},
   "source": [
    "Scopes in Python "
   ]
  },
  {
   "cell_type": "code",
   "execution_count": 13,
   "id": "c5db6a3e-cbbf-4619-802d-1c3f200b22ff",
   "metadata": {},
   "outputs": [
    {
     "name": "stdout",
     "output_type": "stream",
     "text": [
      "10\n",
      "Value of x in outer function after modification 20\n",
      "10\n"
     ]
    }
   ],
   "source": [
    "x=10   #Global variable\n",
    "\n",
    "def outer_function():\n",
    "    # print(\"Value of x in outer function\",x)\n",
    "    x=20   #Enclosing variable\n",
    "    print(f\"Value of x in outer function after modification {x}\")\n",
    "    # def inner_function():\n",
    "        # x=30  #Local variable\n",
    "        # print(x)    #Output:30\n",
    "    # inner_function()\n",
    "    # print(x)    #Output:20\n",
    "\n",
    "print(x)   #Output :10\n",
    "outer_function()\n",
    "print(x)"
   ]
  },
  {
   "cell_type": "code",
   "execution_count": 7,
   "id": "b56e5ece-3d0b-47ee-9c51-2d1fe9a47dd5",
   "metadata": {},
   "outputs": [
    {
     "data": {
      "text/plain": [
       "30"
      ]
     },
     "execution_count": 7,
     "metadata": {},
     "output_type": "execute_result"
    }
   ],
   "source": [
    "#Lamda, map , filter list comprehension\n",
    "#function to add two variables\n",
    "\n",
    "def myadd1(a,b):\n",
    "    res=a+b\n",
    "    return res\n",
    "\n",
    "a=10\n",
    "b=20\n",
    "res=myadd1(a,b)\n",
    "res\n",
    "# myadd1(10,20)"
   ]
  },
  {
   "cell_type": "code",
   "execution_count": 11,
   "id": "54d24dbc-1856-43eb-879d-23b8edbf7f5e",
   "metadata": {},
   "outputs": [
    {
     "name": "stdout",
     "output_type": "stream",
     "text": [
      "8\n"
     ]
    }
   ],
   "source": [
    "add=lambda a,b: a+b\n",
    "print(add(3,5))"
   ]
  },
  {
   "cell_type": "code",
   "execution_count": 14,
   "id": "1d560366-0cfc-412b-bac5-13df7808a4ac",
   "metadata": {},
   "outputs": [
    {
     "data": {
      "text/plain": [
       "2400"
      ]
     },
     "execution_count": 14,
     "metadata": {},
     "output_type": "execute_result"
    }
   ],
   "source": [
    "#WAP to multiply two variables using lamda function\n",
    "\n",
    "def product(a,b):\n",
    "    mul=a*b\n",
    "    return mul\n",
    "\n",
    "a=30\n",
    "b=80\n",
    "mul=product(a,b)\n",
    "mul"
   ]
  },
  {
   "cell_type": "code",
   "execution_count": 15,
   "id": "f677415e-7044-4fa7-b437-95732172819a",
   "metadata": {},
   "outputs": [
    {
     "name": "stdout",
     "output_type": "stream",
     "text": [
      "800\n"
     ]
    }
   ],
   "source": [
    "mul=lambda a,b: a*b\n",
    "print(mul(20,40))"
   ]
  },
  {
   "cell_type": "code",
   "execution_count": 19,
   "id": "e8cc9b28-1e10-4db9-8920-e42813af8a46",
   "metadata": {},
   "outputs": [
    {
     "name": "stdout",
     "output_type": "stream",
     "text": [
      "<function <lambda> at 0x0000024000293100>\n"
     ]
    },
    {
     "data": {
      "text/plain": [
       "6"
      ]
     },
     "execution_count": 19,
     "metadata": {},
     "output_type": "execute_result"
    }
   ],
   "source": [
    "#Another way to do this\n",
    "\n",
    "a=2\n",
    "b=3\n",
    "def mul(a,b):\n",
    "    return a*b\n",
    "\n",
    "#using lambda\n",
    "product=lambda a,b: a*b\n",
    "print(product)\n",
    "mul(a,b)"
   ]
  },
  {
   "cell_type": "code",
   "execution_count": 20,
   "id": "5c7a5ff3-8384-4d32-a88b-68b4bca2592a",
   "metadata": {},
   "outputs": [
    {
     "name": "stdout",
     "output_type": "stream",
     "text": [
      "[1, 4, 9, 16, 25]\n"
     ]
    }
   ],
   "source": [
    "#using map to square each number in a list\n",
    "\n",
    "numbers=[1,2,3,4,5]\n",
    "squared=map(lambda x: x*x, numbers)\n",
    "print(list(squared))"
   ]
  },
  {
   "cell_type": "code",
   "execution_count": 25,
   "id": "30475757-b7d4-4cfa-ab10-04ce8ea0e3b4",
   "metadata": {},
   "outputs": [
    {
     "name": "stdout",
     "output_type": "stream",
     "text": [
      "[2, 4]\n"
     ]
    }
   ],
   "source": [
    "even_numbers=filter(lambda x:x%2==0,numbers)\n",
    "print(list(even_numbers))"
   ]
  },
  {
   "cell_type": "code",
   "execution_count": 46,
   "id": "9f79da4b-b79a-46de-9282-433573f617bf",
   "metadata": {},
   "outputs": [
    {
     "name": "stdout",
     "output_type": "stream",
     "text": [
      "[4, 16]\n"
     ]
    }
   ],
   "source": [
    "#WAP to square each number in a list without using map and lambda print only even numbers\n",
    "\n",
    "list1=[1,2,3,4,5]\n",
    "list2=[]\n",
    "length=len(list1)\n",
    "for i in range(0,length):\n",
    "    num=list1[i]*list1[i]\n",
    "    if(num % 2 == 0):\n",
    "        list2.append(num)\n",
    "print(list2)"
   ]
  },
  {
   "cell_type": "code",
   "execution_count": 49,
   "id": "2836d6fc-7e53-4bc0-a3c3-2f8d48c322df",
   "metadata": {},
   "outputs": [
    {
     "name": "stdout",
     "output_type": "stream",
     "text": [
      "[0, 4, 16, 36, 64]\n"
     ]
    }
   ],
   "source": [
    "#WAP to create a list of square of even numbers from 0 to 9\n",
    "\n",
    "list=[]\n",
    "for i in range(0,9):\n",
    "    if(i%2==0):\n",
    "        list.append(i*i)\n",
    "print(list)"
   ]
  },
  {
   "cell_type": "code",
   "execution_count": 51,
   "id": "1cb44573-e5f1-4fb2-8e1d-016c9cb5bbe3",
   "metadata": {},
   "outputs": [],
   "source": [
    "squares = [i**2 for i in range(10) if i%2==0]"
   ]
  },
  {
   "cell_type": "code",
   "execution_count": 52,
   "id": "aea75386-ba4b-44ab-9c69-5632aaa7e9b8",
   "metadata": {},
   "outputs": [],
   "source": [
    "#WAP that takes a list containing your SAP ID and return a list of email address"
   ]
  },
  {
   "cell_type": "code",
   "execution_count": 53,
   "id": "c2d9ed85-7d2a-40a4-aa74-d33fee306a56",
   "metadata": {},
   "outputs": [],
   "source": [
    "#WAP that takes email addresses from user and message from user and using SMTP library send message to all the email addresses"
   ]
  },
  {
   "cell_type": "code",
   "execution_count": 54,
   "id": "a7a7843f-f9ef-4a69-8497-7e98b1c7a51b",
   "metadata": {},
   "outputs": [],
   "source": [
    "#WAP to print current time then pause/sleep for 2 seconds and again print current time"
   ]
  },
  {
   "cell_type": "code",
   "execution_count": 1,
   "id": "c0bc237e-6fb6-4f99-903d-f07e51f76ef7",
   "metadata": {},
   "outputs": [],
   "source": [
    "#WAP that takes directory address from user and returns a list of files and directories in that lsit using OS moduleb"
   ]
  },
  {
   "cell_type": "markdown",
   "id": "0459453b-d1f0-4cec-88b9-5a8a29bd14ab",
   "metadata": {},
   "source": [
    "UNIT- 2 OS module"
   ]
  },
  {
   "cell_type": "code",
   "execution_count": null,
   "id": "589e1953-53c7-4138-9e49-d9e7d41d2060",
   "metadata": {},
   "outputs": [],
   "source": []
  },
  {
   "cell_type": "markdown",
   "id": "cfdbb6c7-2b5f-4223-a09b-4ca51ec06b8c",
   "metadata": {},
   "source": [
    "WAP that takes directory address from user and organise files in to following folder (using OS module)\n",
    "\n",
    "| Folder | File Types |\n",
    "| --- | ---|\n",
    "| Images | jpg, png |\n",
    "| Videos | mp4, mkv |\n",
    "| Music | mp3, oog |\n",
    "|  |  |"
   ]
  },
  {
   "cell_type": "code",
   "execution_count": 1,
   "id": "59245bbe-ff60-46ae-830b-57cc8755ff67",
   "metadata": {},
   "outputs": [
    {
     "ename": "NameError",
     "evalue": "name 'address' is not defined",
     "output_type": "error",
     "traceback": [
      "\u001b[1;31m---------------------------------------------------------------------------\u001b[0m",
      "\u001b[1;31mNameError\u001b[0m                                 Traceback (most recent call last)",
      "Cell \u001b[1;32mIn[1], line 2\u001b[0m\n\u001b[0;32m      1\u001b[0m \u001b[38;5;28;01mimport\u001b[39;00m \u001b[38;5;21;01mos\u001b[39;00m\n\u001b[1;32m----> 2\u001b[0m os\u001b[38;5;241m.\u001b[39mchdir(\u001b[43maddress\u001b[49m)\n\u001b[0;32m      3\u001b[0m cmd\u001b[38;5;241m=\u001b[39m\u001b[38;5;124m\"\u001b[39m\u001b[38;5;124mpwd\u001b[39m\u001b[38;5;124m\"\u001b[39m\n\u001b[0;32m      4\u001b[0m \u001b[38;5;28mprint\u001b[39m(os\u001b[38;5;241m.\u001b[39msystem(cmd))\n",
      "\u001b[1;31mNameError\u001b[0m: name 'address' is not defined"
     ]
    }
   ],
   "source": [
    "import os\n",
    "os.chdir(address)\n",
    "cmd=\"pwd\"\n",
    "print(os.system(cmd))"
   ]
  },
  {
   "cell_type": "code",
   "execution_count": 3,
   "id": "565096ad-28c2-450a-8660-eee752ff1d5a",
   "metadata": {},
   "outputs": [
    {
     "ename": "NameError",
     "evalue": "name 'lis_of_emails' is not defined",
     "output_type": "error",
     "traceback": [
      "\u001b[1;31m---------------------------------------------------------------------------\u001b[0m",
      "\u001b[1;31mNameError\u001b[0m                                 Traceback (most recent call last)",
      "Cell \u001b[1;32mIn[3], line 14\u001b[0m\n\u001b[0;32m     11\u001b[0m     emails\u001b[38;5;241m.\u001b[39mappend(email)\n\u001b[0;32m     13\u001b[0m list_of_emails\u001b[38;5;241m=\u001b[39memails\n\u001b[1;32m---> 14\u001b[0m \u001b[43mlis_of_emails\u001b[49m\n",
      "\u001b[1;31mNameError\u001b[0m: name 'lis_of_emails' is not defined"
     ]
    }
   ],
   "source": [
    "#1st logic\n",
    "\n",
    "sapids=[123,234234,345345,4545]\n",
    "def id2email(id):\n",
    "    #returh str(id) + \"@stu.upes.ac.in\"\n",
    "    return f\"{ id }@stu.upes.ac.in\"\n",
    "\n",
    "emails=[]\n",
    "for id in sapids:\n",
    "    email=id2email(id)\n",
    "    emails.append(email)\n",
    "\n",
    "list_of_emails=emails\n",
    "lis_of_emails"
   ]
  },
  {
   "cell_type": "code",
   "execution_count": null,
   "id": "00fe0836-e279-4b84-ac76-2d706a4ceced",
   "metadata": {},
   "outputs": [],
   "source": [
    "#1st logic using map and function\n",
    "\n",
    "sapids=[123,234234,345345,4545]\n",
    "def id2email(id):\n",
    "    # returh str(id) + \"@stu.upes.ac.in\"\n",
    "    return f\"{ id }@stu.upes.ac.in\"\n",
    "\n",
    "emails=[]\n",
    "for id in sapids:\n",
    "    email=id2email(id)\n",
    "    emails.append(email)\n",
    "\n",
    "list_of_emails=emails\n",
    "lis_of_emails"
   ]
  },
  {
   "cell_type": "code",
   "execution_count": 4,
   "id": "c3318ced-f72f-4501-ae40-82f0e9871390",
   "metadata": {},
   "outputs": [
    {
     "ename": "IndentationError",
     "evalue": "expected an indented block after function definition on line 14 (3880479805.py, line 17)",
     "output_type": "error",
     "traceback": [
      "\u001b[1;36m  Cell \u001b[1;32mIn[4], line 17\u001b[1;36m\u001b[0m\n\u001b[1;33m    if __name__ == '__main__':\u001b[0m\n\u001b[1;37m    ^\u001b[0m\n\u001b[1;31mIndentationError\u001b[0m\u001b[1;31m:\u001b[0m expected an indented block after function definition on line 14\n"
     ]
    }
   ],
   "source": [
    "import math\n",
    "import os\n",
    "import random\n",
    "import re\n",
    "import sys\n",
    "\n",
    "#\n",
    "# Complete the 'generate_email_list' function below.\n",
    "#\n",
    "# The function is expected to return a STRING.\n",
    "# The function accepts STRING sapid as parameter.\n",
    "#\n",
    "\n",
    "def generate_email_list(sapid):\n",
    "    # Write your code here\n",
    "\n",
    "if __name__ == '__main__':\n",
    "    fptr = open(os.environ['OUTPUT_PATH'], 'w')\n",
    "\n",
    "    # The function is expected to return a LIST of emails.\n",
    "\n",
    "    # The function accepts LIST sapid as parameter.\n",
    "\n",
    "    sapid = input()\n",
    "\n",
    "    email_list = generate_email_list(sapid)\n",
    "\n",
    "    fptr.write(email_list + '\\n')\n",
    "\n",
    "    fptr.close()"
   ]
  },
  {
   "cell_type": "code",
   "execution_count": 6,
   "id": "2a7c5c5f-0f75-4d47-a6e1-02e7bf5806db",
   "metadata": {},
   "outputs": [
    {
     "name": "stdout",
     "output_type": "stream",
     "text": [
      "value of 10\n"
     ]
    }
   ],
   "source": [
    "#Try catch in python for error handling\n",
    "#print(f\"value of {a}\")\n",
    "\n",
    "a=10\n",
    "try:\n",
    "    print(f\"value of {a}\")\n",
    "except:\n",
    "    print(f\"value of a does not exist\")\n",
    "    "
   ]
  },
  {
   "cell_type": "code",
   "execution_count": 8,
   "id": "bd07a419-46f3-4ce0-ab7b-064302e0830c",
   "metadata": {},
   "outputs": [
    {
     "name": "stdout",
     "output_type": "stream",
     "text": [
      "Assertion is false\n"
     ]
    }
   ],
   "source": [
    "a=10\n",
    "b=20\n",
    "\n",
    "try:\n",
    "    assert a>b\n",
    "    print(\"Assertion is true\")\n",
    "except:\n",
    "    print(\"Assertion is false\")"
   ]
  },
  {
   "cell_type": "markdown",
   "id": "21a2d869-03bd-43b5-9c51-c413c0f86bfa",
   "metadata": {},
   "source": [
    "Q. WAP that takes 2 values from the user and returns division of first from second"
   ]
  },
  {
   "cell_type": "code",
   "execution_count": 13,
   "id": "51868e66-0239-4680-b337-41554d9f0206",
   "metadata": {},
   "outputs": [
    {
     "name": "stdin",
     "output_type": "stream",
     "text": [
      "Enter the first number 45\n",
      "Enter the second number 8\n"
     ]
    },
    {
     "name": "stdout",
     "output_type": "stream",
     "text": [
      "Division of 45/8 is 5.625\n"
     ]
    }
   ],
   "source": [
    "a=int(input(\"Enter the first number\"))\n",
    "b=int(input(\"Enter the second number\"))\n",
    "\n",
    "def div(a,b):\n",
    "    assert b!=0\n",
    "    return a/b\n",
    "\n",
    "print(f\"Division of {a}/{b} is {div(a,b)}\")"
   ]
  }
 ],
 "metadata": {
  "kernelspec": {
   "display_name": "Python 3 (ipykernel)",
   "language": "python",
   "name": "python3"
  },
  "language_info": {
   "codemirror_mode": {
    "name": "ipython",
    "version": 3
   },
   "file_extension": ".py",
   "mimetype": "text/x-python",
   "name": "python",
   "nbconvert_exporter": "python",
   "pygments_lexer": "ipython3",
   "version": "3.12.4"
  }
 },
 "nbformat": 4,
 "nbformat_minor": 5
}
